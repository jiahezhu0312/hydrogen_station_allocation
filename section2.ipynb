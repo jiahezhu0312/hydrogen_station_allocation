{
 "cells": [
  {
   "cell_type": "code",
   "execution_count": 1,
   "metadata": {},
   "outputs": [
    {
     "name": "stderr",
     "output_type": "stream",
     "text": [
      "c:\\Users\\z\\miniconda3\\envs\\py39\\lib\\site-packages\\tqdm\\auto.py:22: TqdmWarning: IProgress not found. Please update jupyter and ipywidgets. See https://ipywidgets.readthedocs.io/en/stable/user_install.html\n",
      "  from .autonotebook import tqdm as notebook_tqdm\n"
     ]
    }
   ],
   "source": [
    "from section2.preprocessing.read_data import read_ald, read_tmja\n",
    "from section2.model.run import locate_stations\n",
    "from utils.visualization import visualize_network\n",
    "from utils.save_read_graph import save, read\n",
    "\n",
    "from section3.scenario1 import scenario_1\n",
    "from section3.scenario2 import scenario_2"
   ]
  },
  {
   "cell_type": "code",
   "execution_count": 2,
   "metadata": {},
   "outputs": [],
   "source": [
    "p = 400\n",
    "R = 400000\n",
    "data_folder = \".\\data\\\\\"\n",
    "saved_folder = './networks/'\n",
    "model_name = f'p{p}R{R}'\n"
   ]
  },
  {
   "cell_type": "code",
   "execution_count": 3,
   "metadata": {},
   "outputs": [],
   "source": [
    "# tmja = read_tmja(data_folder)\n",
    "# ald = read_ald(data_folder)\n",
    "# cn,x, y = locate_stations(tmja, ald, p, R)\n",
    "# args = {\n",
    "#     'station_size_coefficient': {str(k):v for k,v in x.items()},\n",
    "#     'demand_per_path_coefficient': y\n",
    "# }\n",
    "# save(cn, args, saved_folder, model_name)\n",
    "\n"
   ]
  },
  {
   "cell_type": "code",
   "execution_count": 4,
   "metadata": {},
   "outputs": [],
   "source": [
    "cn, x, y = read(saved_folder+model_name)\n",
    "x = {int(k): v for k, v in x.items() }"
   ]
  },
  {
   "cell_type": "code",
   "execution_count": 5,
   "metadata": {},
   "outputs": [],
   "source": [
    "# scenario_2(cn, x)\n",
    "scenario_1(cn, x, visualization=False, metrics=False)\n"
   ]
  },
  {
   "cell_type": "code",
   "execution_count": 10,
   "metadata": {},
   "outputs": [
    {
     "data": {
      "text/plain": [
       "{'coordinates': array([ 506136.72083333, 6288902.33666667]),\n",
       " 'region_name': 'Occitanie',\n",
       " 'is_OD': 0.0,\n",
       " 'is_Station': 0.0,\n",
       " 'S3P1_station_size': 0,\n",
       " 'S3P1_h2day': 0,\n",
       " 'S3P1_kg_profits': 0}"
      ]
     },
     "execution_count": 10,
     "metadata": {},
     "output_type": "execute_result"
    }
   ],
   "source": [
    "cn.nodes[0]"
   ]
  },
  {
   "cell_type": "code",
   "execution_count": null,
   "metadata": {},
   "outputs": [],
   "source": []
  }
 ],
 "metadata": {
  "kernelspec": {
   "display_name": "py39",
   "language": "python",
   "name": "python3"
  },
  "language_info": {
   "codemirror_mode": {
    "name": "ipython",
    "version": 3
   },
   "file_extension": ".py",
   "mimetype": "text/x-python",
   "name": "python",
   "nbconvert_exporter": "python",
   "pygments_lexer": "ipython3",
   "version": "3.9.13"
  },
  "orig_nbformat": 4
 },
 "nbformat": 4,
 "nbformat_minor": 2
}
