{
 "cells": [
  {
   "cell_type": "code",
   "execution_count": 1,
   "metadata": {},
   "outputs": [
    {
     "name": "stderr",
     "output_type": "stream",
     "text": [
      "c:\\Users\\z\\miniconda3\\envs\\py39\\lib\\site-packages\\tqdm\\auto.py:22: TqdmWarning: IProgress not found. Please update jupyter and ipywidgets. See https://ipywidgets.readthedocs.io/en/stable/user_install.html\n",
      "  from .autonotebook import tqdm as notebook_tqdm\n"
     ]
    }
   ],
   "source": [
    "from section2.preprocessing.read_data import read_ald, read_tmja\n",
    "from section2.model.run import locate_stations\n",
    "from utils.visualization import visualize_network\n",
    "from utils.save_read_graph import save, read\n",
    "\n",
    "from section3.scenario1 import scenario_1\n",
    "from section3.scenario2 import scenario_2"
   ]
  },
  {
   "cell_type": "code",
   "execution_count": 2,
   "metadata": {},
   "outputs": [],
   "source": [
    "p = 400\n",
    "R = 400000\n",
    "data_folder = \".\\data\\\\\"\n",
    "saved_folder = './networks/'\n",
    "model_name = f'p{p}R{R}'\n"
   ]
  },
  {
   "cell_type": "code",
   "execution_count": 3,
   "metadata": {},
   "outputs": [],
   "source": [
    "tmja = read_tmja(data_folder)\n",
    "ald = read_ald(data_folder)"
   ]
  },
  {
   "cell_type": "code",
   "execution_count": 4,
   "metadata": {},
   "outputs": [],
   "source": [
    "# cn,x, y = locate_stations(tmja, ald, p, R)\n"
   ]
  },
  {
   "cell_type": "code",
   "execution_count": 5,
   "metadata": {},
   "outputs": [],
   "source": [
    "# args = {\n",
    "#     'station_size_coefficient': {str(k):v for k,v in x.items()},\n",
    "#     'demand_per_path_coefficient': y\n",
    "# }\n",
    "# save(cn, args, saved_folder, model_name)\n"
   ]
  },
  {
   "cell_type": "code",
   "execution_count": null,
   "metadata": {},
   "outputs": [],
   "source": []
  },
  {
   "cell_type": "code",
   "execution_count": 7,
   "metadata": {},
   "outputs": [],
   "source": [
    "cn, x, y = read(saved_folder+model_name)\n",
    "x = {int(k): v for k, v in x.items() }"
   ]
  },
  {
   "cell_type": "code",
   "execution_count": 12,
   "metadata": {},
   "outputs": [
    {
     "ename": "TypeError",
     "evalue": "'>' not supported between instances of 'NoneType' and 'int'",
     "output_type": "error",
     "traceback": [
      "\u001b[1;31m---------------------------------------------------------------------------\u001b[0m",
      "\u001b[1;31mTypeError\u001b[0m                                 Traceback (most recent call last)",
      "\u001b[1;32mc:\\Users\\z\\Desktop\\hydrogen_station_allocation\\section2.ipynb Cell 8\u001b[0m in \u001b[0;36m<cell line: 2>\u001b[1;34m()\u001b[0m\n\u001b[0;32m      <a href='vscode-notebook-cell:/c%3A/Users/z/Desktop/hydrogen_station_allocation/section2.ipynb#W5sZmlsZQ%3D%3D?line=0'>1</a>\u001b[0m \u001b[39m# scenario_2(cn, x)\u001b[39;00m\n\u001b[1;32m----> <a href='vscode-notebook-cell:/c%3A/Users/z/Desktop/hydrogen_station_allocation/section2.ipynb#W5sZmlsZQ%3D%3D?line=1'>2</a>\u001b[0m scenario_1(cn, x)\n",
      "File \u001b[1;32mc:\\Users\\z\\Desktop\\hydrogen_station_allocation\\section3\\scenario1.py:125\u001b[0m, in \u001b[0;36mscenario_1\u001b[1;34m(cn1, x, timesteps)\u001b[0m\n\u001b[0;32m    123\u001b[0m nx\u001b[39m.\u001b[39mset_node_attributes(cn1, res_profit, \u001b[39m\"\u001b[39m\u001b[39mS3P1_kg_profit\u001b[39m\u001b[39m\"\u001b[39m)\n\u001b[0;32m    124\u001b[0m nx\u001b[39m.\u001b[39mset_node_attributes(cn1, x, \u001b[39m\"\u001b[39m\u001b[39mis_Station\u001b[39m\u001b[39m\"\u001b[39m)\n\u001b[1;32m--> 125\u001b[0m visualize_network_with_stations_size(cn1)\n\u001b[0;32m    126\u001b[0m scenario_1_metrics(cn1)\n",
      "File \u001b[1;32mc:\\Users\\z\\Desktop\\hydrogen_station_allocation\\utils\\visualization.py:137\u001b[0m, in \u001b[0;36mvisualize_network_with_stations_size\u001b[1;34m(roads)\u001b[0m\n\u001b[0;32m    135\u001b[0m results \u001b[39m=\u001b[39m \u001b[39mdict\u001b[39m(roads\u001b[39m.\u001b[39mnodes(data\u001b[39m=\u001b[39m\u001b[39m\"\u001b[39m\u001b[39mstation_size\u001b[39m\u001b[39m\"\u001b[39m))\n\u001b[0;32m    136\u001b[0m candidate_sites \u001b[39m=\u001b[39m \u001b[39mlist\u001b[39m(results\u001b[39m.\u001b[39mvalues())\n\u001b[1;32m--> 137\u001b[0m nstations \u001b[39m=\u001b[39m \u001b[39mlen\u001b[39m([ele \u001b[39mfor\u001b[39;00m ele \u001b[39min\u001b[39;00m candidate_sites \u001b[39mif\u001b[39;00m ele \u001b[39m>\u001b[39m\u001b[39m0\u001b[39m])\n\u001b[0;32m    138\u001b[0m \u001b[39mprint\u001b[39m(\n\u001b[0;32m    139\u001b[0m     \u001b[39mf\u001b[39m\u001b[39m\"\u001b[39m\u001b[39mWe allocate \u001b[39m\u001b[39m{\u001b[39;00mnstations\u001b[39m}\u001b[39;00m\u001b[39m stations in this network\u001b[39m\u001b[39m\"\u001b[39m\n\u001b[0;32m    140\u001b[0m )\n\u001b[0;32m    142\u001b[0m fig, ax1 \u001b[39m=\u001b[39m plt\u001b[39m.\u001b[39msubplots(nrows\u001b[39m=\u001b[39m\u001b[39m1\u001b[39m, ncols\u001b[39m=\u001b[39m\u001b[39m1\u001b[39m, figsize\u001b[39m=\u001b[39m(\u001b[39m12\u001b[39m, \u001b[39m12\u001b[39m))\n",
      "File \u001b[1;32mc:\\Users\\z\\Desktop\\hydrogen_station_allocation\\utils\\visualization.py:137\u001b[0m, in \u001b[0;36m<listcomp>\u001b[1;34m(.0)\u001b[0m\n\u001b[0;32m    135\u001b[0m results \u001b[39m=\u001b[39m \u001b[39mdict\u001b[39m(roads\u001b[39m.\u001b[39mnodes(data\u001b[39m=\u001b[39m\u001b[39m\"\u001b[39m\u001b[39mstation_size\u001b[39m\u001b[39m\"\u001b[39m))\n\u001b[0;32m    136\u001b[0m candidate_sites \u001b[39m=\u001b[39m \u001b[39mlist\u001b[39m(results\u001b[39m.\u001b[39mvalues())\n\u001b[1;32m--> 137\u001b[0m nstations \u001b[39m=\u001b[39m \u001b[39mlen\u001b[39m([ele \u001b[39mfor\u001b[39;00m ele \u001b[39min\u001b[39;00m candidate_sites \u001b[39mif\u001b[39;00m ele \u001b[39m>\u001b[39;49m\u001b[39m0\u001b[39;49m])\n\u001b[0;32m    138\u001b[0m \u001b[39mprint\u001b[39m(\n\u001b[0;32m    139\u001b[0m     \u001b[39mf\u001b[39m\u001b[39m\"\u001b[39m\u001b[39mWe allocate \u001b[39m\u001b[39m{\u001b[39;00mnstations\u001b[39m}\u001b[39;00m\u001b[39m stations in this network\u001b[39m\u001b[39m\"\u001b[39m\n\u001b[0;32m    140\u001b[0m )\n\u001b[0;32m    142\u001b[0m fig, ax1 \u001b[39m=\u001b[39m plt\u001b[39m.\u001b[39msubplots(nrows\u001b[39m=\u001b[39m\u001b[39m1\u001b[39m, ncols\u001b[39m=\u001b[39m\u001b[39m1\u001b[39m, figsize\u001b[39m=\u001b[39m(\u001b[39m12\u001b[39m, \u001b[39m12\u001b[39m))\n",
      "\u001b[1;31mTypeError\u001b[0m: '>' not supported between instances of 'NoneType' and 'int'"
     ]
    }
   ],
   "source": [
    "# scenario_2(cn, x)\n",
    "scenario_1(cn, x)\n"
   ]
  },
  {
   "cell_type": "code",
   "execution_count": 10,
   "metadata": {},
   "outputs": [
    {
     "data": {
      "text/plain": [
       "{'coordinates': array([ 506136.72083333, 6288902.33666667]),\n",
       " 'region_name': 'Occitanie',\n",
       " 'is_OD': 0.0,\n",
       " 'is_Station': 0.0,\n",
       " 'S3P1_station_size': 0,\n",
       " 'S3P1_h2day': 0,\n",
       " 'S3P1_kg_profits': 0}"
      ]
     },
     "execution_count": 10,
     "metadata": {},
     "output_type": "execute_result"
    }
   ],
   "source": [
    "cn.nodes[0]"
   ]
  },
  {
   "cell_type": "code",
   "execution_count": null,
   "metadata": {},
   "outputs": [],
   "source": []
  }
 ],
 "metadata": {
  "kernelspec": {
   "display_name": "py39",
   "language": "python",
   "name": "python3"
  },
  "language_info": {
   "codemirror_mode": {
    "name": "ipython",
    "version": 3
   },
   "file_extension": ".py",
   "mimetype": "text/x-python",
   "name": "python",
   "nbconvert_exporter": "python",
   "pygments_lexer": "ipython3",
   "version": "3.9.13"
  },
  "orig_nbformat": 4
 },
 "nbformat": 4,
 "nbformat_minor": 2
}
