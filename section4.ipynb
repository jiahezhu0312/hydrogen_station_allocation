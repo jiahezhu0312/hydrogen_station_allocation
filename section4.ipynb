{
 "cells": [
  {
   "cell_type": "code",
   "execution_count": 308,
   "metadata": {},
   "outputs": [],
   "source": [
    "from utils.save_read_graph import read, save\n",
    "from section3.scenario1 import scenario_1\n",
    "import seaborn as sns\n",
    "from tabulate import tabulate\n"
   ]
  },
  {
   "cell_type": "code",
   "execution_count": 210,
   "metadata": {},
   "outputs": [
    {
     "data": {
      "text/plain": [
       "'2.8.8'"
      ]
     },
     "execution_count": 210,
     "metadata": {},
     "output_type": "execute_result"
    }
   ],
   "source": [
    "nx.__version__"
   ]
  },
  {
   "cell_type": "code",
   "execution_count": 5,
   "metadata": {},
   "outputs": [
    {
     "name": "stdout",
     "output_type": "stream",
     "text": [
      "  Year    Stations(unit)    Small(%)    Medium(%)    Large(%)  Demand Satisfied(%)      Yearly Profit(M ton)    Construction Cost(M Euro)    Operations Cost(M Euro)\n",
      "------  ----------------  ----------  -----------  ----------  ---------------------  ----------------------  ---------------------------  -------------------------\n",
      "  2025                82        75.6         23.2         1.2  not defined                             4.925                          289                       0\n",
      "  2030               179        34.6         39.7        25.7  96.6                                   32.218                          361                      26.76\n",
      "  2035               351        28.5         33.9        37.6  not defined                            87.006                          690                      72.76\n",
      "  2040               387        17.8         26.6        55.6  70.6                                  126.751                          108                     151.52\n"
     ]
    }
   ],
   "source": [
    "data_path = './data/'\n",
    "network_path = './networks/p400R400000/'\n",
    "cn, x, _= read(network_path)\n",
    "x = {int(k): v for k, v in x.items() }\n",
    "dfs = scenario_1(cn, x)\n"
   ]
  },
  {
   "cell_type": "code",
   "execution_count": 335,
   "metadata": {},
   "outputs": [],
   "source": [
    "import networkx as nx\n",
    "from ortools.linear_solver import pywraplp\n",
    "def prepare_data(cn, prefix='S3P1'):\n",
    "    cap_dict = {0:0, 1:1, 2:2, 3:4 }\n",
    "\n",
    "    n_candidate_site = cn.nodes\n",
    "\n",
    "    clients = [k for k, v in dict(cn.nodes(data=prefix+\"_station_size\")).items() if v > 0] \n",
    "    d = {i: { j: nx.path_weight(cn, nx.shortest_path(cn, j, i), 'weight')   for j in cn.nodes  if i!= j} for i in clients}\n",
    "    a = {k:cap_dict[v]  for k, v in dict(cn.nodes(data=prefix+'_station_size')).items() if k in clients}\n",
    "    return n_candidate_site, clients, d,  a\n",
    "def PMedian(n_candidate_site, clients, d,  a , p_facilities):\n",
    "\n",
    "    solver = pywraplp.Solver.CreateSolver('GLOP')\n",
    "    if not solver:\n",
    "            return\n",
    "    Y = {j: solver.BoolVar('y_' + str(j)) for j in n_candidate_site}\n",
    "    X = {i: {j: solver.BoolVar('x_' + str(i) + '_'+str(j))  for j in   n_candidate_site if j!=i } for i in clients}\n",
    "    # u = [solver.BoolVar('u_' + str(j)) for j in range(n_candidate_site)]\n",
    "    # for j in range(len(Y)):\n",
    "    #     solver.Add(u[j] <= Y[j])\n",
    "    for i in X:\n",
    "        solver.Add(sum(list(X[i].values())) == 1)\n",
    "        for j in X[i]:\n",
    "            solver.Add(X[i][j] <= 45.6*Y[j] )\n",
    "    # solver.Add(sum(Y) + sum(u) == p_facilities)\n",
    "    solver.Add(sum(list(Y.values())) == p_facilities)\n",
    "    solver.Minimize(sum([sum([ a[i]* d[i][j] *X[i][j] for j in d[i]]) for i in clients])+ 3*sum(list(Y.values())))\n",
    "    status = solver.Solve()\n",
    "\n",
    "    # print('\\nAdvanced usage:')\n",
    "    # print('Problem solved in %f milliseconds' % solver.wall_time())\n",
    "    # print('Problem solved in %d iterations' % solver.iterations())\n",
    "    # print()\n",
    "    # print(sum([sum([ a[i]* d[i][j] *X[i][j].solution_value() for j in d[i]]) for i in clients]))\n",
    "    return {k: {j: v[j].solution_value() for j in v} for k, v in X.items()}, {k: ele.solution_value() for k, ele in Y.items()}\n",
    "\n",
    "\n",
    "\n",
    "\n"
   ]
  },
  {
   "cell_type": "code",
   "execution_count": null,
   "metadata": {},
   "outputs": [],
   "source": []
  },
  {
   "cell_type": "code",
   "execution_count": 395,
   "metadata": {},
   "outputs": [],
   "source": [
    "import math\n",
    "import random\n",
    "from copy import copy\n",
    "def algo_by_region(cn, region_name):\n",
    "\n",
    "    demend_per_region ={k:0 for k in set(dict(cn.nodes(data='region_name')).values())}\n",
    "    cap_dict = {0:0, 1:1, 2:2, 3:4}\n",
    "    for i in cn.nodes:\n",
    "        n = cn.nodes[i]\n",
    "        demend_per_region[n['region_name']] += cap_dict[n['S3P1_station_size']]\n",
    "\n",
    "    n_pdl =  cn.subgraph([n for n in cn.nodes if cn.nodes[n]['region_name'] ==  region_name])\n",
    "\n",
    "    largest_cc = max(nx.connected_components(n_pdl), key=len)\n",
    "    cn_pdl = n_pdl.subgraph(largest_cc)\n",
    "\n",
    "    n_candidate_site, clients, d,  a = prepare_data(cn_pdl)\n",
    "    p = math.floor(demend_per_region[region_name]/ 45.6)\n",
    "    X, Y_dict= PMedian(n_candidate_site, clients, d,  a, p)\n",
    "    XY_pair = {k: max(v, key=lambda key: v[key]) for k, v in X.items()}\n",
    "    station_size = {'large':[], 'small':[]}\n",
    "    Y = list(Y_dict.values())\n",
    "    size_coef = list(set(Y))\n",
    "    size_coef.sort()\n",
    "    n_large = 0\n",
    "    n_small = 0\n",
    "    if len(size_coef) == 3:\n",
    "        n_large = len([ele for ele in Y if ele >= size_coef[-1]])\n",
    "        station_size['large'] = [k for k, v in Y_dict.items() if v >= size_coef[-1]]\n",
    "    elif len(size_coef) == 4:\n",
    "        n_large = len([ele for ele in Y if ele >= size_coef[-2]])\n",
    "        station_size['large'] = [k for k, v in Y_dict.items() if v >= size_coef[-2]]\n",
    "\n",
    "    if demend_per_region[region_name]> n_large*45.6:\n",
    "        n_small = math.ceil((demend_per_region[region_name] - n_large*45.6)/2) \n",
    "        if len(size_coef) == 3:\n",
    "            station_size['small'] = random.choices( [k for k, v in Y_dict.items() if (v>0) and (v < size_coef[-1])], k=n_small)\n",
    "        elif len(size_coef) == 4:\n",
    "            station_size['small'] = random.choices( [k for k, v in Y_dict.items() if (v>0) and (v < size_coef[-2])], k=n_small)\n",
    "    XY_transportation = {}\n",
    "    for n,s in XY_pair.items():\n",
    "       \n",
    "        if (s not in  station_size['small'] ) and (s not in  station_size['large'] ):\n",
    "            dist = {}\n",
    "            for potential_st in station_size['small'] + station_size['large']:\n",
    "                dist[potential_st] =  nx.shortest_path(cn, potential_st, n)\n",
    "            s =  max(dist, key=lambda key: dist[key])\n",
    "        XY_transportation[n] = nx.path_weight(cn, nx.shortest_path(cn, s, n) , 'weight') / 1000 *cn.nodes[n]['S3P1_station_size'] *8\n",
    "         \n",
    "\n",
    "    supply_demand_ratio = (45.6 * n_large + 2 * n_small) /demend_per_region[region_name]\n",
    "    return station_size, [region_name, len(station_size['large']), len(station_size['small']), f'{supply_demand_ratio:.3f}', 20*n_small+120*n_large, f'{sum(XY_transportation.values())/1000:.1f}']"
   ]
  },
  {
   "cell_type": "code",
   "execution_count": 396,
   "metadata": {},
   "outputs": [
    {
     "data": {
      "text/plain": [
       "({'large': [602, 363],\n",
       "  'small': [24,\n",
       "   333,\n",
       "   713,\n",
       "   283,\n",
       "   457,\n",
       "   741,\n",
       "   333,\n",
       "   144,\n",
       "   646,\n",
       "   24,\n",
       "   536,\n",
       "   357,\n",
       "   676,\n",
       "   144,\n",
       "   283,\n",
       "   390,\n",
       "   98,\n",
       "   185,\n",
       "   261,\n",
       "   183]},\n",
       " ['Grand Est', 2, 20, '1.002', 640, '53.3'])"
      ]
     },
     "execution_count": 396,
     "metadata": {},
     "output_type": "execute_result"
    }
   ],
   "source": [
    "algo_by_region(cn, 'Grand Est')"
   ]
  },
  {
   "cell_type": "code",
   "execution_count": 397,
   "metadata": {},
   "outputs": [],
   "source": [
    "table = []\n",
    "station_size_all = {'large':[], 'small':[]}\n",
    "for r in set(dict(cn.nodes(data='region_name')).values()):\n",
    "    station_size_r, statistics = algo_by_region(cn, r)\n",
    "    station_size_r, statistics = algo_by_region(cn, r)\n",
    "    station_size_all['large'] += station_size_r['large']\n",
    "    station_size_all['small'] += station_size_r['small']\n",
    "\n",
    "    table.append(statistics)\n",
    "\n"
   ]
  },
  {
   "cell_type": "code",
   "execution_count": 393,
   "metadata": {},
   "outputs": [
    {
     "name": "stdout",
     "output_type": "stream",
     "text": [
      "Region                        Large Plant(unit)    Small Plant(unit)    Supply to Demand(%)    Construction cost(M Euro)    Transportation cost (k Euro/yr)\n",
      "--------------------------  -------------------  -------------------  ---------------------  ---------------------------  ---------------------------------\n",
      "Bourgogne-Franche-Comté                       2                    2                  1.013                          280                               39.7\n",
      "Provence-Alpes-Côte d'Azur                    1                   11                  1.009                          340                               19\n",
      "Centre-Val de Loire                           2                    6                  1.002                          360                               38.1\n",
      "Bretagne                                      1                   13                  1.008                          380                               22.3\n",
      "Nouvelle-Aquitaine                            3                    8                  1.012                          520                               78.6\n",
      "Pays de la Loire                              1                    7                  1.028                          260                               32\n",
      "Hauts-de-France                               1                   15                  1.022                          420                               17.3\n",
      "Normandie                                     1                   15                  1.022                          420                               37.2\n",
      "Île-de-France                                 1                   10                  1.025                          320                               15.2\n",
      "Auvergne-Rhône-Alpes                          3                    5                  1.005                          460                               87.8\n",
      "Grand Est                                     2                   20                  1.002                          640                               40.2\n",
      "Occitanie                                     2                    6                  1.012                          360                               79.2\n"
     ]
    }
   ],
   "source": [
    "header = ['Region','Large Plant(unit)','Small Plant(unit)'\n",
    "        ,'Supply to Demand(%)', 'Construction cost(M Euro)'\n",
    "        , 'Transportation cost (k Euro/yr)']\n",
    "print (tabulate(table, headers=header))\n"
   ]
  },
  {
   "cell_type": "code",
   "execution_count": 215,
   "metadata": {},
   "outputs": [
    {
     "data": {
      "text/plain": [
       "{0.0, 0.021929824561403508, 0.4736842105263159, 1.0}"
      ]
     },
     "execution_count": 215,
     "metadata": {},
     "output_type": "execute_result"
    }
   ],
   "source": [
    "set(Y)"
   ]
  },
  {
   "cell_type": "code",
   "execution_count": 184,
   "metadata": {},
   "outputs": [
    {
     "data": {
      "text/plain": [
       "26"
      ]
     },
     "execution_count": 184,
     "metadata": {},
     "output_type": "execute_result"
    }
   ],
   "source": [
    "len([ele for ele in Y if ele>0.02])\n",
    "# len([ele for ele in Y if ele==1])"
   ]
  },
  {
   "cell_type": "code",
   "execution_count": 185,
   "metadata": {},
   "outputs": [],
   "source": [
    "import numpy as np\n",
    "import matplotlib.pyplot as plt\n",
    "\n",
    "def visualize_network_with_stations_size(roads, station_sizes_prod):\n",
    "    edges, weights = zip(*nx.get_edge_attributes(roads, \"traffic flow\").items())\n",
    "    weights = np.array(weights) + 1\n",
    "    weights = np.log(weights)\n",
    "    is_OD = np.array(list(dict(roads.nodes(data=\"S3P1_station_size\")).values()))\n",
    "    # is_nor = np.array(list(dict(roads.nodes(data='region_name')).values() ))\n",
    "    cluster_centers = dict(roads.nodes(data=\"coordinates\"))\n",
    "    is_station = np.zeros(len(roads.nodes))\n",
    "    \n",
    " \n",
    "    fig, ax1 = plt.subplots(nrows=1, ncols=1, figsize=(12, 12))\n",
    "\n",
    "    node_color = [\"red\" if n else \"blue\" for n in is_OD]\n",
    "    for ind in roads.nodes:\n",
    "        if ind in station_sizes_prod['large']:\n",
    "            node_color[ind] = \"green\"\n",
    "            is_station[ind] = 1\n",
    "        elif ind in station_size_prod['small']:\n",
    "            node_color[ind] = \"purple\"\n",
    "            is_station[ind] = 1\n",
    "        \n",
    "    print()\n",
    "    options = {\n",
    "        \"edge_color\": weights,\n",
    "        \"width\": 4,\n",
    "        \"edge_cmap\": plt.cm.Wistia,\n",
    "        \"with_labels\": False,\n",
    "        \"node_color\": node_color,\n",
    "        \"node_size\": (is_OD/5 + np.array(y)) * 20,\n",
    "    }\n",
    "    nx.draw(\n",
    "        roads,\n",
    "        pos=cluster_centers,\n",
    "        **options,\n",
    "    )\n",
    "\n",
    "    plt.show()\n",
    "\n"
   ]
  },
  {
   "cell_type": "code",
   "execution_count": 186,
   "metadata": {},
   "outputs": [
    {
     "name": "stdout",
     "output_type": "stream",
     "text": [
      "We allocate 2 stations in this network\n",
      "\n"
     ]
    },
    {
     "data": {
      "image/png": "[encoded data removed]",
      "text/plain": [
       "<Figure size 864x864 with 1 Axes>"
      ]
     },
     "metadata": {},
     "output_type": "display_data"
    }
   ],
   "source": [
    "visualize_network_with_stations_size(cn_pdl, [ele if ele>0.025 else 0 for ele in Y ])"
   ]
  },
  {
   "cell_type": "code",
   "execution_count": 101,
   "metadata": {},
   "outputs": [],
   "source": [
    "factory_size={}\n",
    "for i in range(len(Y)):\n",
    "    if Y[i] > 0.03:\n",
    "        factory_size[i] = 2\n",
    "\n",
    "    else:\n",
    "        factory_size[i] = 0"
   ]
  },
  {
   "cell_type": "code",
   "execution_count": 102,
   "metadata": {},
   "outputs": [],
   "source": [
    "nx.set_node_attributes(cn, 0, \"S4_factory_size\")\n",
    "nx.set_node_attributes(cn, factory_size, \"S4_factory_size\")"
   ]
  },
  {
   "cell_type": "code",
   "execution_count": 95,
   "metadata": {},
   "outputs": [],
   "source": []
  },
  {
   "cell_type": "code",
   "execution_count": 103,
   "metadata": {},
   "outputs": [],
   "source": [
    "capacity_per_region ={k:0 for k in set(dict(cn.nodes(data='region_name')).values())}\n",
    "prod_cap_dict = {0:0, 1:2, 2:45.6}\n",
    "for i in cn.nodes:\n",
    "    n = cn.nodes[i]\n",
    "    capacity_per_region[n['region_name']] += prod_cap_dict[n['S4_factory_size']]"
   ]
  },
  {
   "cell_type": "code",
   "execution_count": 195,
   "metadata": {},
   "outputs": [],
   "source": [
    "header = ['BFC', 'Prov.', 'CDL', 'Bret.', 'NA', 'PDL', 'HDF', 'Norm.', 'IDF', 'ARA', 'GE', 'Occit.']\n",
    "abbriv = {\n",
    "    'BFC':'Bourgogne-Franche-Comté',\n",
    "    'Prov.':\"Provence-Alpes-Côte d'Azur\",\n",
    "    'CDL':'Centre-Val de Loire',\n",
    "    'Bret.': 'Bretagne',\n",
    "    'NA': 'Nouvelle-Aquitaine',\n",
    "    'PDL': 'Pays de la Loire',\n",
    "    'HDF': 'Hauts-de-France',\n",
    "    'Norm.': 'Normandie',\n",
    "    'IDF': 'Île-de-France',\n",
    "    'ARA': 'Auvergne-Rhône-Alpes',\n",
    "    'GE': 'Grand Est',\n",
    "    'Occit.':'Occitanie'\n",
    "}\n",
    "res = [demend_per_region[abbriv[name]] for name in header]"
   ]
  },
  {
   "cell_type": "code",
   "execution_count": 208,
   "metadata": {},
   "outputs": [
    {
     "data": {
      "text/plain": [
       "Text(0, 0.5, 'Demend t/d')"
      ]
     },
     "execution_count": 208,
     "metadata": {},
     "output_type": "execute_result"
    },
    {
     "data": {
      "image/png": "[encoded data removed]",
      "text/plain": [
       "<Figure size 576x576 with 1 Axes>"
      ]
     },
     "metadata": {},
     "output_type": "display_data"
    }
   ],
   "source": [
    "fig, axs = plt.subplots( figsize=(8,8))\n",
    "axs.pie(res, labels=header,autopct=lambda x: '{:.0f}'.format(x*sum(res)/100) ,textprops={'fontsize': 14},colors=sns.color_palette('Set2'))\n",
    "axs.tick_params(axis='x', rotation=45)\n",
    "axs.set_ylabel(\"Demend t/d\")\n"
   ]
  },
  {
   "cell_type": "code",
   "execution_count": 104,
   "metadata": {},
   "outputs": [
    {
     "data": {
      "text/plain": [
       "{'Bourgogne-Franche-Comté': 228.0,\n",
       " \"Provence-Alpes-Côte d'Azur\": 0,\n",
       " 'Centre-Val de Loire': 273.6,\n",
       " 'Bretagne': 91.2,\n",
       " 'Nouvelle-Aquitaine': 364.80000000000007,\n",
       " 'Pays de la Loire': 0,\n",
       " 'Hauts-de-France': 273.6,\n",
       " 'Normandie': 91.2,\n",
       " 'Île-de-France': 91.2,\n",
       " 'Auvergne-Rhône-Alpes': 182.4,\n",
       " 'Grand Est': 182.4,\n",
       " 'Occitanie': 45.6}"
      ]
     },
     "execution_count": 104,
     "metadata": {},
     "output_type": "execute_result"
    }
   ],
   "source": [
    "capacity_per_region"
   ]
  },
  {
   "cell_type": "code",
   "execution_count": null,
   "metadata": {},
   "outputs": [],
   "source": []
  }
 ],
 "metadata": {
  "kernelspec": {
   "display_name": "py39",
   "language": "python",
   "name": "python3"
  },
  "language_info": {
   "codemirror_mode": {
    "name": "ipython",
    "version": 3
   },
   "file_extension": ".py",
   "mimetype": "text/x-python",
   "name": "python",
   "nbconvert_exporter": "python",
   "pygments_lexer": "ipython3",
   "version": "3.9.13"
  },
  "orig_nbformat": 4
 },
 "nbformat": 4,
 "nbformat_minor": 2
}
