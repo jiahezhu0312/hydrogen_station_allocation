{
 "cells": [
  {
   "cell_type": "code",
   "execution_count": 1,
   "metadata": {},
   "outputs": [],
   "source": [
    "from utils.save_read_graph import read, save\n",
    "from section3.scenario1 import scenario_1\n"
   ]
  },
  {
   "cell_type": "code",
   "execution_count": 10,
   "metadata": {},
   "outputs": [],
   "source": [
    "data_path = './data/'\n",
    "network_path = './networks/p400R400000/'\n",
    "cn, x, _= read(network_path)\n",
    "x = {int(k): v for k, v in x.items() }\n",
    "scenario_1(cn, x)\n"
   ]
  },
  {
   "cell_type": "code",
   "execution_count": 31,
   "metadata": {},
   "outputs": [],
   "source": [
    "import networkx as nx\n",
    "from tqdm.auto import tqdm\n",
    "from ortools.linear_solver import pywraplp\n",
    "def prepare_data(cn, prefix='S3P1'):\n",
    "    n_candidate_site = len(cn.nodes)\n",
    "\n",
    "    clients = [k for k, v in dict(cn.nodes(data=prefix+\"_station_size\")).items() if v > 0] \n",
    "    print('Computing shortest path...')\n",
    "    d = {i: { j: nx.path_weight(cn, nx.shortest_path(cn, j, i), 'weight')   for j in range(n_candidate_site)  if i!= j} for i in tqdm(clients)}\n",
    "    a = {k:v  for k, v in dict(cn.nodes(data=prefix+'_h2day')).items() if k in clients}\n",
    "    return n_candidate_site, clients, d,  a\n",
    "def PMedian(cn, p_facilities):\n",
    "    n_candidate_site, clients, d,  a = prepare_data(cn)\n",
    "\n",
    "    solver = pywraplp.Solver.CreateSolver('GLOP')\n",
    "    if not solver:\n",
    "            return\n",
    "    Y = [solver.BoolVar('y_' + str(j)) for j in range(n_candidate_site)]\n",
    "    X = {i: [solver.BoolVar('x_' + str(i) + '_'+str(j))  for j in range(n_candidate_site)  ] for i in clients}\n",
    "    print('Adding constraints...')\n",
    "    for i in tqdm(X):\n",
    "        solver.Add(sum(X[i]) == 1)\n",
    "        for j in range(len(X[i])):\n",
    "            solver.Add(X[i][j] <= Y[j])\n",
    "    solver.Add(sum(Y) == p_facilities)\n",
    "    solver.Minimize(sum([sum([ a[i]* d[i][j] *X[i][j] for j in d[i]]) for i in clients]))\n",
    "    status = solver.Solve()\n",
    "\n",
    "    print('\\nAdvanced usage:')\n",
    "    print('Problem solved in %f milliseconds' % solver.wall_time())\n",
    "    print('Problem solved in %d iterations' % solver.iterations())\n",
    "    print()\n",
    "    # print(sum([sum([ a[i]* d[i][j] *X[i][j].solution_value() for j in d[i]]) for i in clients]))\n",
    "    return {k: [ v[j].solution_value() for j in range(len(v))] for k, v in X.items()}, [ele.solution_value() for ele in Y]\n",
    "\n",
    "\n",
    "\n"
   ]
  },
  {
   "cell_type": "code",
   "execution_count": 27,
   "metadata": {},
   "outputs": [
    {
     "name": "stdout",
     "output_type": "stream",
     "text": [
      "Computing shortest path...\n"
     ]
    },
    {
     "name": "stderr",
     "output_type": "stream",
     "text": [
      "100%|██████████| 335/335 [04:20<00:00,  1.29it/s]\n"
     ]
    },
    {
     "name": "stdout",
     "output_type": "stream",
     "text": [
      "Adding constraints...\n"
     ]
    },
    {
     "name": "stderr",
     "output_type": "stream",
     "text": [
      "100%|██████████| 335/335 [00:04<00:00, 80.02it/s]\n"
     ]
    },
    {
     "name": "stdout",
     "output_type": "stream",
     "text": [
      "\n",
      "Advanced usage:\n",
      "Problem solved in 21019.000000 milliseconds\n",
      "Problem solved in 39652 iterations\n",
      "\n"
     ]
    }
   ],
   "source": [
    "X, Y = PMedian(cn, 80)"
   ]
  },
  {
   "cell_type": "code",
   "execution_count": 30,
   "metadata": {},
   "outputs": [
    {
     "data": {
      "text/plain": [
       "{0.0, 0.5, 1.0}"
      ]
     },
     "execution_count": 30,
     "metadata": {},
     "output_type": "execute_result"
    }
   ],
   "source": [
    "set(Y)\n"
   ]
  },
  {
   "cell_type": "code",
   "execution_count": null,
   "metadata": {},
   "outputs": [],
   "source": []
  }
 ],
 "metadata": {
  "kernelspec": {
   "display_name": "py39",
   "language": "python",
   "name": "python3"
  },
  "language_info": {
   "codemirror_mode": {
    "name": "ipython",
    "version": 3
   },
   "file_extension": ".py",
   "mimetype": "text/x-python",
   "name": "python",
   "nbconvert_exporter": "python",
   "pygments_lexer": "ipython3",
   "version": "3.9.13"
  },
  "orig_nbformat": 4
 },
 "nbformat": 4,
 "nbformat_minor": 2
}
